{
  "nbformat": 4,
  "nbformat_minor": 0,
  "metadata": {
    "colab": {
      "provenance": []
    },
    "kernelspec": {
      "name": "python3",
      "display_name": "Python 3"
    },
    "language_info": {
      "name": "python"
    }
  },
  "cells": [
    {
      "cell_type": "markdown",
      "source": [
        "Importing necessary libraries"
      ],
      "metadata": {
        "id": "wAjKwSVH3M8M"
      }
    },
    {
      "cell_type": "code",
      "execution_count": 1,
      "metadata": {
        "id": "K_p8BkX4yRr4"
      },
      "outputs": [],
      "source": [
        "# Numerical & Data analysis\n",
        "import pandas as pd\n",
        "import numpy as np\n",
        "\n",
        "# Data visualization\n",
        "import seaborn as sns\n",
        "import matplotlib.pyplot as plt\n",
        "\n",
        "import warnings\n",
        "warnings.filterwarnings('ignore')\n",
        "import io\n",
        "\n",
        "from google.colab import files"
      ]
    },
    {
      "cell_type": "markdown",
      "source": [
        "Loan.csv upload and dump in dataframe."
      ],
      "metadata": {
        "id": "8Dw3LxAH3UVo"
      }
    },
    {
      "cell_type": "code",
      "source": [
        "Data = files.upload()\n",
        "\n",
        "df = pd.read_csv(io.BytesIO(Data['loan.csv']))\n",
        "print(df)"
      ],
      "metadata": {
        "id": "8T8rCO0B3YZI"
      },
      "execution_count": null,
      "outputs": []
    },
    {
      "cell_type": "markdown",
      "source": [
        "Take backup of original dataframe before doing any manipulation."
      ],
      "metadata": {
        "id": "kMAJl3So3d_g"
      }
    },
    {
      "cell_type": "code",
      "source": [
        "old_df=df\n",
        "print(old_df)"
      ],
      "metadata": {
        "id": "WJNmZ_pg3ZEg"
      },
      "execution_count": null,
      "outputs": []
    },
    {
      "cell_type": "code",
      "source": [
        "print(df.shape)"
      ],
      "metadata": {
        "id": "cZ03Cg6w3ZBI"
      },
      "execution_count": null,
      "outputs": []
    },
    {
      "cell_type": "markdown",
      "source": [
        "# **DATA PREPROCESSING**"
      ],
      "metadata": {
        "id": "Vaacq8n-6i7r"
      }
    },
    {
      "cell_type": "markdown",
      "source": [
        "Check how many columns have 100% null values and drop those columns from database."
      ],
      "metadata": {
        "id": "iyws1SS23ntq"
      }
    },
    {
      "cell_type": "code",
      "source": [
        "for col in df.columns:\n",
        "    unique_count=df[col].nunique()\n",
        "    # print(f\"Column {col} : unique values {unique_count}\")\n",
        "    if unique_count==0:\n",
        "        df.drop(col,axis=1,inplace=True)"
      ],
      "metadata": {
        "id": "wYz4_nf53lXq"
      },
      "execution_count": 5,
      "outputs": []
    },
    {
      "cell_type": "markdown",
      "source": [
        "After dropping columns check dataframe shape."
      ],
      "metadata": {
        "id": "egULsxXn30t8"
      }
    },
    {
      "cell_type": "code",
      "source": [
        "print(df.shape)"
      ],
      "metadata": {
        "colab": {
          "base_uri": "https://localhost:8080/"
        },
        "id": "5KmH23Gy3lRy",
        "outputId": "e567dc4d-1272-4cde-da2f-0a3f48e1ef70"
      },
      "execution_count": 6,
      "outputs": [
        {
          "output_type": "stream",
          "name": "stdout",
          "text": [
            "(39717, 57)\n"
          ]
        }
      ]
    },
    {
      "cell_type": "markdown",
      "source": [
        "Out of 57 columns check how much data is not available in each column and if >50% data is not available then drop that column"
      ],
      "metadata": {
        "id": "V25FybCg3-pn"
      }
    },
    {
      "cell_type": "code",
      "source": [
        "for col in df.columns:\n",
        "    val=int(df[col].isnull().mean()*100)\n",
        "    if val > 50:\n",
        "        df.drop(col,axis=1,inplace=True)"
      ],
      "metadata": {
        "id": "NBKLwqIn3lOI"
      },
      "execution_count": 7,
      "outputs": []
    },
    {
      "cell_type": "code",
      "source": [
        "print(df.shape)"
      ],
      "metadata": {
        "colab": {
          "base_uri": "https://localhost:8080/"
        },
        "id": "54fqsANN3lKx",
        "outputId": "be70bb73-ea1c-4b91-c2a8-720f218e94d8"
      },
      "execution_count": 8,
      "outputs": [
        {
          "output_type": "stream",
          "name": "stdout",
          "text": [
            "(39717, 54)\n"
          ]
        }
      ]
    },
    {
      "cell_type": "markdown",
      "source": [
        "Segmentation of columns : categorical or numerical."
      ],
      "metadata": {
        "id": "Z0VplTbP4I0g"
      }
    },
    {
      "cell_type": "code",
      "source": [
        "# cat_count : Count variables to get count of categorical columns.\n",
        "# cat_cols : To store categorical column names list\n",
        "\n",
        "cat_count=0\n",
        "cat_cols=[]\n",
        "for col in df.columns:\n",
        "     unique_ct=df[col].nunique()\n",
        "     if unique_ct<=10:\n",
        "        cat_count+=1\n",
        "        cat_cols.append(col)\n",
        "        # print(f\"{col} : unique values {unique_ct} \")\n",
        "\n",
        "print(f\"Categorical column names : {cat_count}\")\n",
        "print(cat_cols)"
      ],
      "metadata": {
        "colab": {
          "base_uri": "https://localhost:8080/"
        },
        "id": "iuznCiH33lHQ",
        "outputId": "11060132-9fcd-426d-c575-4c39e459f4cf"
      },
      "execution_count": 9,
      "outputs": [
        {
          "output_type": "stream",
          "name": "stdout",
          "text": [
            "Categorical column names : 17\n",
            "['term', 'grade', 'home_ownership', 'verification_status', 'loan_status', 'pymnt_plan', 'inq_last_6mths', 'pub_rec', 'initial_list_status', 'collections_12_mths_ex_med', 'policy_code', 'application_type', 'acc_now_delinq', 'chargeoff_within_12_mths', 'delinq_amnt', 'pub_rec_bankruptcies', 'tax_liens']\n"
          ]
        }
      ]
    },
    {
      "cell_type": "code",
      "source": [
        "df[cat_cols].nunique()\n",
        "\n",
        "df.shape"
      ],
      "metadata": {
        "id": "6VEUfxI63lEJ"
      },
      "execution_count": null,
      "outputs": []
    },
    {
      "cell_type": "markdown",
      "source": [
        "If column have single unique value then it wont be beneficial to do analysis so will drop that also."
      ],
      "metadata": {
        "id": "wbmJdmDz4bFh"
      }
    },
    {
      "cell_type": "code",
      "source": [
        "for col in cat_cols:\n",
        "     unique_ct=df[col].nunique()\n",
        "     if unique_ct==1:\n",
        "        cat_count-=1\n",
        "        cat_cols.remove(col)\n",
        "        df.drop(col,axis=1,inplace=True)\n",
        "\n",
        "print(f\"Updates categorical column count : {cat_count}\")\n",
        "print(cat_cols)"
      ],
      "metadata": {
        "id": "-IfESHRi4Y3o"
      },
      "execution_count": null,
      "outputs": []
    },
    {
      "cell_type": "code",
      "source": [
        "df.shape\n",
        "\n",
        "cat_cols"
      ],
      "metadata": {
        "id": "LkOfXbb14gFX"
      },
      "execution_count": null,
      "outputs": []
    },
    {
      "cell_type": "markdown",
      "source": [
        "There are two id columns in csv which won't be useful for analysis so will drop those columns.\n",
        ""
      ],
      "metadata": {
        "id": "-kK2w4n24krf"
      }
    },
    {
      "cell_type": "code",
      "source": [
        "df.drop('id',axis=1,inplace=True)\n",
        "df.shape\n",
        "\n",
        "df.drop('member_id',axis=1,inplace=True)\n",
        "df.shape\n",
        "\n"
      ],
      "metadata": {
        "id": "L6-13Dg24gCH"
      },
      "execution_count": null,
      "outputs": []
    },
    {
      "cell_type": "code",
      "source": [
        "df.shape\n",
        "\n",
        "df.info()\n",
        "\n",
        "df.nunique()"
      ],
      "metadata": {
        "id": "BGZ7Sk3K4f-v"
      },
      "execution_count": null,
      "outputs": []
    },
    {
      "cell_type": "code",
      "source": [
        "for col in cat_cols:\n",
        "     df[col]= df[col].astype(str)\n",
        "     if len(df[col].unique())==1:\n",
        "        cat_count-=1\n",
        "        cat_cols.remove(col)\n",
        "        df.drop(col,axis=1,inplace=True)"
      ],
      "metadata": {
        "id": "wEKwO9hB4f7c"
      },
      "execution_count": 15,
      "outputs": []
    },
    {
      "cell_type": "code",
      "source": [
        "df.shape"
      ],
      "metadata": {
        "colab": {
          "base_uri": "https://localhost:8080/"
        },
        "id": "CFvDSAn44rcy",
        "outputId": "5ed0bc15-2acf-426c-dd6b-b5c2084bd224"
      },
      "execution_count": 16,
      "outputs": [
        {
          "output_type": "execute_result",
          "data": {
            "text/plain": [
              "(39717, 45)"
            ]
          },
          "metadata": {},
          "execution_count": 16
        }
      ]
    },
    {
      "cell_type": "code",
      "source": [
        "df.nunique()"
      ],
      "metadata": {
        "id": "7ujSFJAa8cT8"
      },
      "execution_count": null,
      "outputs": []
    },
    {
      "cell_type": "markdown",
      "source": [
        "Dealing with 2 values in column 'tax_liens','chargeoff_within_12_mths','collections_12_mths_ex_med' as 0.0 & nan."
      ],
      "metadata": {
        "id": "aUbKW-r641sn"
      }
    },
    {
      "cell_type": "code",
      "source": [
        "# if df['tax_liens'].nunique()==0:\n",
        "#   df.drop('tax_liens',axis=1,inplace=True)\n",
        "\n",
        "# df['tax_liens'].unique()\n",
        "\n",
        "# df['tax_liens'].fillna(0., inplace=True)\n",
        "\n",
        "# df['tax_liens'].unique()\n",
        "\n",
        "# if df['tax_liens'].nunique() == 1 and df['tax_liens'].unique()[0] == 0:\n",
        "#     df.drop('tax_liens', axis=1, inplace=True)\n",
        "if df['chargeoff_within_12_mths'].nunique() == 1 and df['chargeoff_within_12_mths'].unique()[0] == 0:\n",
        "    df.drop('chargeoff_within_12_mths', axis=1, inplace=True)\n",
        "\n",
        "df.shape"
      ],
      "metadata": {
        "colab": {
          "base_uri": "https://localhost:8080/"
        },
        "id": "eNu1A9Qc4rOL",
        "outputId": "6846c96a-6866-4c68-fad2-8e44df1fc299"
      },
      "execution_count": 18,
      "outputs": [
        {
          "output_type": "execute_result",
          "data": {
            "text/plain": [
              "(39717, 44)"
            ]
          },
          "metadata": {},
          "execution_count": 18
        }
      ]
    },
    {
      "cell_type": "code",
      "source": [
        "df.nunique()"
      ],
      "metadata": {
        "id": "79x1xeEq8nYF"
      },
      "execution_count": null,
      "outputs": []
    },
    {
      "cell_type": "code",
      "source": [
        "df.shape"
      ],
      "metadata": {
        "colab": {
          "base_uri": "https://localhost:8080/"
        },
        "id": "tLssYwVO8Uuk",
        "outputId": "9b832dbf-7d70-49ef-c371-6ddfcb4c5367"
      },
      "execution_count": 19,
      "outputs": [
        {
          "output_type": "execute_result",
          "data": {
            "text/plain": [
              "(39717, 44)"
            ]
          },
          "metadata": {},
          "execution_count": 19
        }
      ]
    },
    {
      "cell_type": "code",
      "source": [
        "if df['collections_12_mths_ex_med'].nunique() == 1 and df['collections_12_mths_ex_med'].unique()[0] == 0:\n",
        "    df.drop('collections_12_mths_ex_med', axis=1, inplace=True)"
      ],
      "metadata": {
        "id": "leiFmvCh8ucG"
      },
      "execution_count": 22,
      "outputs": []
    },
    {
      "cell_type": "code",
      "source": [
        "df.shape"
      ],
      "metadata": {
        "id": "zpugu2ZQ8wXc"
      },
      "execution_count": null,
      "outputs": []
    },
    {
      "cell_type": "markdown",
      "source": [
        "Data manipulation to make data visualisation process easy & smooth."
      ],
      "metadata": {
        "id": "TozdJ75b5Ici"
      }
    },
    {
      "cell_type": "code",
      "source": [
        "old_df['term'] = df['term'].apply(lambda x: int(x.split()[0]))\n",
        "print(old_df)"
      ],
      "metadata": {
        "id": "D0wh8mlp47mH"
      },
      "execution_count": null,
      "outputs": []
    },
    {
      "cell_type": "code",
      "source": [
        "old_df['int_rate']=old_df['int_rate'].str.replace('%','')\n",
        "print(old_df['int_rate'])"
      ],
      "metadata": {
        "id": "QlPiVxgi47j0"
      },
      "execution_count": null,
      "outputs": []
    },
    {
      "cell_type": "code",
      "source": [
        "# Encode loan status values\n",
        "mapping =  {'Fully Paid':0,'Charged Off':1,'Current':2}\n",
        "old_df['loan_status']=old_df['loan_status'].replace(mapping)\n",
        "print(old_df['loan_status'])"
      ],
      "metadata": {
        "id": "bAnO_Oor47gY"
      },
      "execution_count": null,
      "outputs": []
    },
    {
      "cell_type": "markdown",
      "source": [
        "# ***DATA VISUALIZATION***"
      ],
      "metadata": {
        "id": "o7J4y-WD6Xj1"
      }
    },
    {
      "cell_type": "markdown",
      "source": [
        "Heatmap"
      ],
      "metadata": {
        "id": "PG0zlS3s6vq2"
      }
    },
    {
      "cell_type": "code",
      "source": [
        "# columns_for_heatmap  = ['loan_amnt','int_rate','term','loan_status','total_acc','out_prncp','total_pymnt','total_rec_int','recoveries']\n",
        "columns_for_heatmap  = ['loan_amnt','int_rate','term','loan_status']\n",
        "heatmap_data = df[columns_for_heatmap]\n",
        "correlation_matrix = heatmap_data.corr()\n",
        "plt.figure(figsize=(5,5))\n",
        "sns.heatmap(correlation_matrix,annot=True)\n",
        "plt.title('Loan features Correlation ')\n",
        "plt.show()"
      ],
      "metadata": {
        "id": "tLOwiWtH47c_"
      },
      "execution_count": null,
      "outputs": []
    },
    {
      "cell_type": "code",
      "source": [
        "count_by_condition = df['loan_status'].value_counts()\n",
        "print(count_by_condition)"
      ],
      "metadata": {
        "colab": {
          "base_uri": "https://localhost:8080/"
        },
        "id": "0xCLuvog47Zn",
        "outputId": "657dccf6-ea70-44cc-b90b-c073fdd4dda6"
      },
      "execution_count": 28,
      "outputs": [
        {
          "output_type": "stream",
          "name": "stdout",
          "text": [
            "loan_status\n",
            "0    32950\n",
            "1     5627\n",
            "2     1140\n",
            "Name: count, dtype: int64\n"
          ]
        }
      ]
    },
    {
      "cell_type": "code",
      "source": [
        "# Fully Paid':0,'Charged Off':1,'Current':2}\n",
        "data = {'Category': ['Fully Paid', 'Charged Off', 'Current'],\n",
        "        'Value': [32950, 5627, 1140]}"
      ],
      "metadata": {
        "id": "DkPJRfWr4rJi"
      },
      "execution_count": 30,
      "outputs": []
    },
    {
      "cell_type": "code",
      "source": [
        "bar_data = pd.DataFrame(data)\n",
        "sns.barplot(x='Category', y='Value', data=bar_data)\n",
        "plt.show()"
      ],
      "metadata": {
        "id": "Tzk_FkKE9jO1"
      },
      "execution_count": null,
      "outputs": []
    },
    {
      "cell_type": "code",
      "source": [
        "data = {'Category': ['Fully Paid', 'Charged Off', 'Current'],\n",
        "        'Value': [36, 60]}"
      ],
      "metadata": {
        "id": "nSzzTocrFtlc"
      },
      "execution_count": 32,
      "outputs": []
    },
    {
      "cell_type": "code",
      "source": [
        "cat_cols"
      ],
      "metadata": {
        "id": "C8pODAvkGqiH"
      },
      "execution_count": null,
      "outputs": []
    },
    {
      "cell_type": "code",
      "source": [
        "cat_cols.remove('collections_12_mths_ex_med')"
      ],
      "metadata": {
        "id": "ZvBYsgKjGwNe"
      },
      "execution_count": 36,
      "outputs": []
    },
    {
      "cell_type": "code",
      "source": [
        "cat_cols.remove('chargeoff_within_12_mths')"
      ],
      "metadata": {
        "id": "ujcjR4uhG0r4"
      },
      "execution_count": 37,
      "outputs": []
    },
    {
      "cell_type": "code",
      "source": [
        "for i in cat_cols:\n",
        "  print(\"Countplot \")\n",
        "  sns.countplot(x=df[i])\n",
        "  plt.show()"
      ],
      "metadata": {
        "id": "p1U40m5hFtYl"
      },
      "execution_count": null,
      "outputs": []
    },
    {
      "cell_type": "code",
      "source": [
        "num_cols=['loan_amnt','int_rate','term']"
      ],
      "metadata": {
        "id": "JWozuMusKa7w"
      },
      "execution_count": 44,
      "outputs": []
    },
    {
      "cell_type": "code",
      "source": [
        "for i in num_cols:\n",
        "    print(\"Histogram for column:\", i)\n",
        "    sns.histplot(df[i], kde=True)  # Create histogram with kernel density estimate\n",
        "    plt.xlabel(i)  # Add label to x-axis\n",
        "    # plt.ylabel(\"loan_status\")  # Add label to y-axis\n",
        "    plt.show()"
      ],
      "metadata": {
        "id": "LzoHyDDKHhfg"
      },
      "execution_count": null,
      "outputs": []
    },
    {
      "cell_type": "code",
      "source": [
        "# Dataset after preprocessing & analytics\n",
        "df.shape"
      ],
      "metadata": {
        "colab": {
          "base_uri": "https://localhost:8080/"
        },
        "id": "5IJBziaCLngH",
        "outputId": "bc8a2796-963a-410f-8398-eec520847e11"
      },
      "execution_count": 48,
      "outputs": [
        {
          "output_type": "execute_result",
          "data": {
            "text/plain": [
              "(39717, 44)"
            ]
          },
          "metadata": {},
          "execution_count": 48
        }
      ]
    },
    {
      "cell_type": "code",
      "source": [
        "df.info()"
      ],
      "metadata": {
        "id": "hkZ1U4H7LzWn"
      },
      "execution_count": null,
      "outputs": []
    },
    {
      "cell_type": "code",
      "source": [
        "df.describe()"
      ],
      "metadata": {
        "id": "F96CG6ppL3jA"
      },
      "execution_count": null,
      "outputs": []
    },
    {
      "cell_type": "code",
      "source": [
        "df.head()"
      ],
      "metadata": {
        "colab": {
          "base_uri": "https://localhost:8080/",
          "height": 325
        },
        "id": "C1yiyaTFL_Bw",
        "outputId": "dc28ef49-690b-4947-9dd1-bb655a453c22"
      },
      "execution_count": 51,
      "outputs": [
        {
          "output_type": "execute_result",
          "data": {
            "text/plain": [
              "   loan_amnt  funded_amnt  funded_amnt_inv  term int_rate  installment grade  \\\n",
              "0       5000         5000           4975.0    36    10.65       162.87     B   \n",
              "1       2500         2500           2500.0    60    15.27        59.83     C   \n",
              "2       2400         2400           2400.0    36    15.96        84.33     C   \n",
              "3      10000        10000          10000.0    36    13.49       339.31     C   \n",
              "4       3000         3000           3000.0    60    12.69        67.79     B   \n",
              "\n",
              "  sub_grade                 emp_title emp_length  ... total_rec_prncp  \\\n",
              "0        B2                       NaN  10+ years  ...         5000.00   \n",
              "1        C4                     Ryder   < 1 year  ...          456.46   \n",
              "2        C5                       NaN  10+ years  ...         2400.00   \n",
              "3        C1       AIR RESOURCES BOARD  10+ years  ...        10000.00   \n",
              "4        B5  University Medical Group     1 year  ...         2475.94   \n",
              "\n",
              "   total_rec_int total_rec_late_fee recoveries  collection_recovery_fee  \\\n",
              "0         863.16               0.00       0.00                     0.00   \n",
              "1         435.17               0.00     117.08                     1.11   \n",
              "2         605.67               0.00       0.00                     0.00   \n",
              "3        2214.92              16.97       0.00                     0.00   \n",
              "4        1037.39               0.00       0.00                     0.00   \n",
              "\n",
              "  last_pymnt_d last_pymnt_amnt last_credit_pull_d collections_12_mths_ex_med  \\\n",
              "0       Jan-15          171.62             May-16                        0.0   \n",
              "1       Apr-13          119.66             Sep-13                        0.0   \n",
              "2       Jun-14          649.91             May-16                        0.0   \n",
              "3       Jan-15          357.48             Apr-16                        0.0   \n",
              "4       May-16           67.79             May-16                        0.0   \n",
              "\n",
              "  pub_rec_bankruptcies  \n",
              "0                  0.0  \n",
              "1                  0.0  \n",
              "2                  0.0  \n",
              "3                  0.0  \n",
              "4                  0.0  \n",
              "\n",
              "[5 rows x 44 columns]"
            ],
            "text/html": [
              "\n",
              "  <div id=\"df-488d0b47-1f23-4566-b9cb-9883649465ca\" class=\"colab-df-container\">\n",
              "    <div>\n",
              "<style scoped>\n",
              "    .dataframe tbody tr th:only-of-type {\n",
              "        vertical-align: middle;\n",
              "    }\n",
              "\n",
              "    .dataframe tbody tr th {\n",
              "        vertical-align: top;\n",
              "    }\n",
              "\n",
              "    .dataframe thead th {\n",
              "        text-align: right;\n",
              "    }\n",
              "</style>\n",
              "<table border=\"1\" class=\"dataframe\">\n",
              "  <thead>\n",
              "    <tr style=\"text-align: right;\">\n",
              "      <th></th>\n",
              "      <th>loan_amnt</th>\n",
              "      <th>funded_amnt</th>\n",
              "      <th>funded_amnt_inv</th>\n",
              "      <th>term</th>\n",
              "      <th>int_rate</th>\n",
              "      <th>installment</th>\n",
              "      <th>grade</th>\n",
              "      <th>sub_grade</th>\n",
              "      <th>emp_title</th>\n",
              "      <th>emp_length</th>\n",
              "      <th>...</th>\n",
              "      <th>total_rec_prncp</th>\n",
              "      <th>total_rec_int</th>\n",
              "      <th>total_rec_late_fee</th>\n",
              "      <th>recoveries</th>\n",
              "      <th>collection_recovery_fee</th>\n",
              "      <th>last_pymnt_d</th>\n",
              "      <th>last_pymnt_amnt</th>\n",
              "      <th>last_credit_pull_d</th>\n",
              "      <th>collections_12_mths_ex_med</th>\n",
              "      <th>pub_rec_bankruptcies</th>\n",
              "    </tr>\n",
              "  </thead>\n",
              "  <tbody>\n",
              "    <tr>\n",
              "      <th>0</th>\n",
              "      <td>5000</td>\n",
              "      <td>5000</td>\n",
              "      <td>4975.0</td>\n",
              "      <td>36</td>\n",
              "      <td>10.65</td>\n",
              "      <td>162.87</td>\n",
              "      <td>B</td>\n",
              "      <td>B2</td>\n",
              "      <td>NaN</td>\n",
              "      <td>10+ years</td>\n",
              "      <td>...</td>\n",
              "      <td>5000.00</td>\n",
              "      <td>863.16</td>\n",
              "      <td>0.00</td>\n",
              "      <td>0.00</td>\n",
              "      <td>0.00</td>\n",
              "      <td>Jan-15</td>\n",
              "      <td>171.62</td>\n",
              "      <td>May-16</td>\n",
              "      <td>0.0</td>\n",
              "      <td>0.0</td>\n",
              "    </tr>\n",
              "    <tr>\n",
              "      <th>1</th>\n",
              "      <td>2500</td>\n",
              "      <td>2500</td>\n",
              "      <td>2500.0</td>\n",
              "      <td>60</td>\n",
              "      <td>15.27</td>\n",
              "      <td>59.83</td>\n",
              "      <td>C</td>\n",
              "      <td>C4</td>\n",
              "      <td>Ryder</td>\n",
              "      <td>&lt; 1 year</td>\n",
              "      <td>...</td>\n",
              "      <td>456.46</td>\n",
              "      <td>435.17</td>\n",
              "      <td>0.00</td>\n",
              "      <td>117.08</td>\n",
              "      <td>1.11</td>\n",
              "      <td>Apr-13</td>\n",
              "      <td>119.66</td>\n",
              "      <td>Sep-13</td>\n",
              "      <td>0.0</td>\n",
              "      <td>0.0</td>\n",
              "    </tr>\n",
              "    <tr>\n",
              "      <th>2</th>\n",
              "      <td>2400</td>\n",
              "      <td>2400</td>\n",
              "      <td>2400.0</td>\n",
              "      <td>36</td>\n",
              "      <td>15.96</td>\n",
              "      <td>84.33</td>\n",
              "      <td>C</td>\n",
              "      <td>C5</td>\n",
              "      <td>NaN</td>\n",
              "      <td>10+ years</td>\n",
              "      <td>...</td>\n",
              "      <td>2400.00</td>\n",
              "      <td>605.67</td>\n",
              "      <td>0.00</td>\n",
              "      <td>0.00</td>\n",
              "      <td>0.00</td>\n",
              "      <td>Jun-14</td>\n",
              "      <td>649.91</td>\n",
              "      <td>May-16</td>\n",
              "      <td>0.0</td>\n",
              "      <td>0.0</td>\n",
              "    </tr>\n",
              "    <tr>\n",
              "      <th>3</th>\n",
              "      <td>10000</td>\n",
              "      <td>10000</td>\n",
              "      <td>10000.0</td>\n",
              "      <td>36</td>\n",
              "      <td>13.49</td>\n",
              "      <td>339.31</td>\n",
              "      <td>C</td>\n",
              "      <td>C1</td>\n",
              "      <td>AIR RESOURCES BOARD</td>\n",
              "      <td>10+ years</td>\n",
              "      <td>...</td>\n",
              "      <td>10000.00</td>\n",
              "      <td>2214.92</td>\n",
              "      <td>16.97</td>\n",
              "      <td>0.00</td>\n",
              "      <td>0.00</td>\n",
              "      <td>Jan-15</td>\n",
              "      <td>357.48</td>\n",
              "      <td>Apr-16</td>\n",
              "      <td>0.0</td>\n",
              "      <td>0.0</td>\n",
              "    </tr>\n",
              "    <tr>\n",
              "      <th>4</th>\n",
              "      <td>3000</td>\n",
              "      <td>3000</td>\n",
              "      <td>3000.0</td>\n",
              "      <td>60</td>\n",
              "      <td>12.69</td>\n",
              "      <td>67.79</td>\n",
              "      <td>B</td>\n",
              "      <td>B5</td>\n",
              "      <td>University Medical Group</td>\n",
              "      <td>1 year</td>\n",
              "      <td>...</td>\n",
              "      <td>2475.94</td>\n",
              "      <td>1037.39</td>\n",
              "      <td>0.00</td>\n",
              "      <td>0.00</td>\n",
              "      <td>0.00</td>\n",
              "      <td>May-16</td>\n",
              "      <td>67.79</td>\n",
              "      <td>May-16</td>\n",
              "      <td>0.0</td>\n",
              "      <td>0.0</td>\n",
              "    </tr>\n",
              "  </tbody>\n",
              "</table>\n",
              "<p>5 rows × 44 columns</p>\n",
              "</div>\n",
              "    <div class=\"colab-df-buttons\">\n",
              "\n",
              "  <div class=\"colab-df-container\">\n",
              "    <button class=\"colab-df-convert\" onclick=\"convertToInteractive('df-488d0b47-1f23-4566-b9cb-9883649465ca')\"\n",
              "            title=\"Convert this dataframe to an interactive table.\"\n",
              "            style=\"display:none;\">\n",
              "\n",
              "  <svg xmlns=\"http://www.w3.org/2000/svg\" height=\"24px\" viewBox=\"0 -960 960 960\">\n",
              "    <path d=\"M120-120v-720h720v720H120Zm60-500h600v-160H180v160Zm220 220h160v-160H400v160Zm0 220h160v-160H400v160ZM180-400h160v-160H180v160Zm440 0h160v-160H620v160ZM180-180h160v-160H180v160Zm440 0h160v-160H620v160Z\"/>\n",
              "  </svg>\n",
              "    </button>\n",
              "\n",
              "  <style>\n",
              "    .colab-df-container {\n",
              "      display:flex;\n",
              "      gap: 12px;\n",
              "    }\n",
              "\n",
              "    .colab-df-convert {\n",
              "      background-color: #E8F0FE;\n",
              "      border: none;\n",
              "      border-radius: 50%;\n",
              "      cursor: pointer;\n",
              "      display: none;\n",
              "      fill: #1967D2;\n",
              "      height: 32px;\n",
              "      padding: 0 0 0 0;\n",
              "      width: 32px;\n",
              "    }\n",
              "\n",
              "    .colab-df-convert:hover {\n",
              "      background-color: #E2EBFA;\n",
              "      box-shadow: 0px 1px 2px rgba(60, 64, 67, 0.3), 0px 1px 3px 1px rgba(60, 64, 67, 0.15);\n",
              "      fill: #174EA6;\n",
              "    }\n",
              "\n",
              "    .colab-df-buttons div {\n",
              "      margin-bottom: 4px;\n",
              "    }\n",
              "\n",
              "    [theme=dark] .colab-df-convert {\n",
              "      background-color: #3B4455;\n",
              "      fill: #D2E3FC;\n",
              "    }\n",
              "\n",
              "    [theme=dark] .colab-df-convert:hover {\n",
              "      background-color: #434B5C;\n",
              "      box-shadow: 0px 1px 3px 1px rgba(0, 0, 0, 0.15);\n",
              "      filter: drop-shadow(0px 1px 2px rgba(0, 0, 0, 0.3));\n",
              "      fill: #FFFFFF;\n",
              "    }\n",
              "  </style>\n",
              "\n",
              "    <script>\n",
              "      const buttonEl =\n",
              "        document.querySelector('#df-488d0b47-1f23-4566-b9cb-9883649465ca button.colab-df-convert');\n",
              "      buttonEl.style.display =\n",
              "        google.colab.kernel.accessAllowed ? 'block' : 'none';\n",
              "\n",
              "      async function convertToInteractive(key) {\n",
              "        const element = document.querySelector('#df-488d0b47-1f23-4566-b9cb-9883649465ca');\n",
              "        const dataTable =\n",
              "          await google.colab.kernel.invokeFunction('convertToInteractive',\n",
              "                                                    [key], {});\n",
              "        if (!dataTable) return;\n",
              "\n",
              "        const docLinkHtml = 'Like what you see? Visit the ' +\n",
              "          '<a target=\"_blank\" href=https://colab.research.google.com/notebooks/data_table.ipynb>data table notebook</a>'\n",
              "          + ' to learn more about interactive tables.';\n",
              "        element.innerHTML = '';\n",
              "        dataTable['output_type'] = 'display_data';\n",
              "        await google.colab.output.renderOutput(dataTable, element);\n",
              "        const docLink = document.createElement('div');\n",
              "        docLink.innerHTML = docLinkHtml;\n",
              "        element.appendChild(docLink);\n",
              "      }\n",
              "    </script>\n",
              "  </div>\n",
              "\n",
              "\n",
              "<div id=\"df-5cf9a10e-301f-4c26-ba5f-f18e8d454f14\">\n",
              "  <button class=\"colab-df-quickchart\" onclick=\"quickchart('df-5cf9a10e-301f-4c26-ba5f-f18e8d454f14')\"\n",
              "            title=\"Suggest charts\"\n",
              "            style=\"display:none;\">\n",
              "\n",
              "<svg xmlns=\"http://www.w3.org/2000/svg\" height=\"24px\"viewBox=\"0 0 24 24\"\n",
              "     width=\"24px\">\n",
              "    <g>\n",
              "        <path d=\"M19 3H5c-1.1 0-2 .9-2 2v14c0 1.1.9 2 2 2h14c1.1 0 2-.9 2-2V5c0-1.1-.9-2-2-2zM9 17H7v-7h2v7zm4 0h-2V7h2v10zm4 0h-2v-4h2v4z\"/>\n",
              "    </g>\n",
              "</svg>\n",
              "  </button>\n",
              "\n",
              "<style>\n",
              "  .colab-df-quickchart {\n",
              "      --bg-color: #E8F0FE;\n",
              "      --fill-color: #1967D2;\n",
              "      --hover-bg-color: #E2EBFA;\n",
              "      --hover-fill-color: #174EA6;\n",
              "      --disabled-fill-color: #AAA;\n",
              "      --disabled-bg-color: #DDD;\n",
              "  }\n",
              "\n",
              "  [theme=dark] .colab-df-quickchart {\n",
              "      --bg-color: #3B4455;\n",
              "      --fill-color: #D2E3FC;\n",
              "      --hover-bg-color: #434B5C;\n",
              "      --hover-fill-color: #FFFFFF;\n",
              "      --disabled-bg-color: #3B4455;\n",
              "      --disabled-fill-color: #666;\n",
              "  }\n",
              "\n",
              "  .colab-df-quickchart {\n",
              "    background-color: var(--bg-color);\n",
              "    border: none;\n",
              "    border-radius: 50%;\n",
              "    cursor: pointer;\n",
              "    display: none;\n",
              "    fill: var(--fill-color);\n",
              "    height: 32px;\n",
              "    padding: 0;\n",
              "    width: 32px;\n",
              "  }\n",
              "\n",
              "  .colab-df-quickchart:hover {\n",
              "    background-color: var(--hover-bg-color);\n",
              "    box-shadow: 0 1px 2px rgba(60, 64, 67, 0.3), 0 1px 3px 1px rgba(60, 64, 67, 0.15);\n",
              "    fill: var(--button-hover-fill-color);\n",
              "  }\n",
              "\n",
              "  .colab-df-quickchart-complete:disabled,\n",
              "  .colab-df-quickchart-complete:disabled:hover {\n",
              "    background-color: var(--disabled-bg-color);\n",
              "    fill: var(--disabled-fill-color);\n",
              "    box-shadow: none;\n",
              "  }\n",
              "\n",
              "  .colab-df-spinner {\n",
              "    border: 2px solid var(--fill-color);\n",
              "    border-color: transparent;\n",
              "    border-bottom-color: var(--fill-color);\n",
              "    animation:\n",
              "      spin 1s steps(1) infinite;\n",
              "  }\n",
              "\n",
              "  @keyframes spin {\n",
              "    0% {\n",
              "      border-color: transparent;\n",
              "      border-bottom-color: var(--fill-color);\n",
              "      border-left-color: var(--fill-color);\n",
              "    }\n",
              "    20% {\n",
              "      border-color: transparent;\n",
              "      border-left-color: var(--fill-color);\n",
              "      border-top-color: var(--fill-color);\n",
              "    }\n",
              "    30% {\n",
              "      border-color: transparent;\n",
              "      border-left-color: var(--fill-color);\n",
              "      border-top-color: var(--fill-color);\n",
              "      border-right-color: var(--fill-color);\n",
              "    }\n",
              "    40% {\n",
              "      border-color: transparent;\n",
              "      border-right-color: var(--fill-color);\n",
              "      border-top-color: var(--fill-color);\n",
              "    }\n",
              "    60% {\n",
              "      border-color: transparent;\n",
              "      border-right-color: var(--fill-color);\n",
              "    }\n",
              "    80% {\n",
              "      border-color: transparent;\n",
              "      border-right-color: var(--fill-color);\n",
              "      border-bottom-color: var(--fill-color);\n",
              "    }\n",
              "    90% {\n",
              "      border-color: transparent;\n",
              "      border-bottom-color: var(--fill-color);\n",
              "    }\n",
              "  }\n",
              "</style>\n",
              "\n",
              "  <script>\n",
              "    async function quickchart(key) {\n",
              "      const quickchartButtonEl =\n",
              "        document.querySelector('#' + key + ' button');\n",
              "      quickchartButtonEl.disabled = true;  // To prevent multiple clicks.\n",
              "      quickchartButtonEl.classList.add('colab-df-spinner');\n",
              "      try {\n",
              "        const charts = await google.colab.kernel.invokeFunction(\n",
              "            'suggestCharts', [key], {});\n",
              "      } catch (error) {\n",
              "        console.error('Error during call to suggestCharts:', error);\n",
              "      }\n",
              "      quickchartButtonEl.classList.remove('colab-df-spinner');\n",
              "      quickchartButtonEl.classList.add('colab-df-quickchart-complete');\n",
              "    }\n",
              "    (() => {\n",
              "      let quickchartButtonEl =\n",
              "        document.querySelector('#df-5cf9a10e-301f-4c26-ba5f-f18e8d454f14 button');\n",
              "      quickchartButtonEl.style.display =\n",
              "        google.colab.kernel.accessAllowed ? 'block' : 'none';\n",
              "    })();\n",
              "  </script>\n",
              "</div>\n",
              "    </div>\n",
              "  </div>\n"
            ],
            "application/vnd.google.colaboratory.intrinsic+json": {
              "type": "dataframe",
              "variable_name": "df"
            }
          },
          "metadata": {},
          "execution_count": 51
        }
      ]
    }
  ]
}